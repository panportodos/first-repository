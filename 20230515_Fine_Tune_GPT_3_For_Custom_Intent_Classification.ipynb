{
  "nbformat": 4,
  "nbformat_minor": 0,
  "metadata": {
    "colab": {
      "provenance": [],
      "include_colab_link": true
    },
    "kernelspec": {
      "name": "python3",
      "display_name": "Python 3"
    },
    "language_info": {
      "name": "python"
    }
  },
  "cells": [
    {
      "cell_type": "markdown",
      "metadata": {
        "id": "view-in-github",
        "colab_type": "text"
      },
      "source": [
        "<a href=\"https://colab.research.google.com/github/panportodos/first-repository/blob/master/20230515_Fine_Tune_GPT_3_For_Custom_Intent_Classification.ipynb\" target=\"_parent\"><img src=\"https://colab.research.google.com/assets/colab-badge.svg\" alt=\"Open In Colab\"/></a>"
      ]
    },
    {
      "cell_type": "markdown",
      "source": [
        "# Fine-Tune GPT-3 For Custom Intent Classification"
      ],
      "metadata": {
        "id": "lnBExBulv8yq"
      }
    },
    {
      "cell_type": "markdown",
      "source": [
        "### 데이터 불러오기!"
      ],
      "metadata": {
        "id": "5Dx2-bYH0N_x"
      }
    },
    {
      "cell_type": "code",
      "execution_count": 1,
      "metadata": {
        "id": "HPYxcRII1cqX"
      },
      "outputs": [],
      "source": [
        "import pandas as pd\n",
        "import numpy as np"
      ]
    },
    {
      "cell_type": "code",
      "source": [
        "np.random.seed(0)"
      ],
      "metadata": {
        "id": "9OlsKUu42wA0"
      },
      "execution_count": 2,
      "outputs": []
    },
    {
      "cell_type": "code",
      "source": [
        "data = pd.read_csv(\"/content/watermelon_intents.csv\", header=None)\n",
        "data.head()"
      ],
      "metadata": {
        "id": "Xed6nAdh20AS",
        "colab": {
          "base_uri": "https://localhost:8080/",
          "height": 354
        },
        "outputId": "0ad0d379-8d87-4f8b-a822-d764726fb911"
      },
      "execution_count": 3,
      "outputs": [
        {
          "output_type": "error",
          "ename": "FileNotFoundError",
          "evalue": "ignored",
          "traceback": [
            "\u001b[0;31m---------------------------------------------------------------------------\u001b[0m",
            "\u001b[0;31mFileNotFoundError\u001b[0m                         Traceback (most recent call last)",
            "\u001b[0;32m<ipython-input-3-bc1f02895c29>\u001b[0m in \u001b[0;36m<cell line: 1>\u001b[0;34m()\u001b[0m\n\u001b[0;32m----> 1\u001b[0;31m \u001b[0mdata\u001b[0m \u001b[0;34m=\u001b[0m \u001b[0mpd\u001b[0m\u001b[0;34m.\u001b[0m\u001b[0mread_csv\u001b[0m\u001b[0;34m(\u001b[0m\u001b[0;34m\"/content/watermelon_intents.csv\"\u001b[0m\u001b[0;34m,\u001b[0m \u001b[0mheader\u001b[0m\u001b[0;34m=\u001b[0m\u001b[0;32mNone\u001b[0m\u001b[0;34m)\u001b[0m\u001b[0;34m\u001b[0m\u001b[0;34m\u001b[0m\u001b[0m\n\u001b[0m\u001b[1;32m      2\u001b[0m \u001b[0mdata\u001b[0m\u001b[0;34m.\u001b[0m\u001b[0mhead\u001b[0m\u001b[0;34m(\u001b[0m\u001b[0;34m)\u001b[0m\u001b[0;34m\u001b[0m\u001b[0;34m\u001b[0m\u001b[0m\n",
            "\u001b[0;32m/usr/local/lib/python3.10/dist-packages/pandas/util/_decorators.py\u001b[0m in \u001b[0;36mwrapper\u001b[0;34m(*args, **kwargs)\u001b[0m\n\u001b[1;32m    209\u001b[0m                 \u001b[0;32melse\u001b[0m\u001b[0;34m:\u001b[0m\u001b[0;34m\u001b[0m\u001b[0;34m\u001b[0m\u001b[0m\n\u001b[1;32m    210\u001b[0m                     \u001b[0mkwargs\u001b[0m\u001b[0;34m[\u001b[0m\u001b[0mnew_arg_name\u001b[0m\u001b[0;34m]\u001b[0m \u001b[0;34m=\u001b[0m \u001b[0mnew_arg_value\u001b[0m\u001b[0;34m\u001b[0m\u001b[0;34m\u001b[0m\u001b[0m\n\u001b[0;32m--> 211\u001b[0;31m             \u001b[0;32mreturn\u001b[0m \u001b[0mfunc\u001b[0m\u001b[0;34m(\u001b[0m\u001b[0;34m*\u001b[0m\u001b[0margs\u001b[0m\u001b[0;34m,\u001b[0m \u001b[0;34m**\u001b[0m\u001b[0mkwargs\u001b[0m\u001b[0;34m)\u001b[0m\u001b[0;34m\u001b[0m\u001b[0;34m\u001b[0m\u001b[0m\n\u001b[0m\u001b[1;32m    212\u001b[0m \u001b[0;34m\u001b[0m\u001b[0m\n\u001b[1;32m    213\u001b[0m         \u001b[0;32mreturn\u001b[0m \u001b[0mcast\u001b[0m\u001b[0;34m(\u001b[0m\u001b[0mF\u001b[0m\u001b[0;34m,\u001b[0m \u001b[0mwrapper\u001b[0m\u001b[0;34m)\u001b[0m\u001b[0;34m\u001b[0m\u001b[0;34m\u001b[0m\u001b[0m\n",
            "\u001b[0;32m/usr/local/lib/python3.10/dist-packages/pandas/util/_decorators.py\u001b[0m in \u001b[0;36mwrapper\u001b[0;34m(*args, **kwargs)\u001b[0m\n\u001b[1;32m    329\u001b[0m                     \u001b[0mstacklevel\u001b[0m\u001b[0;34m=\u001b[0m\u001b[0mfind_stack_level\u001b[0m\u001b[0;34m(\u001b[0m\u001b[0;34m)\u001b[0m\u001b[0;34m,\u001b[0m\u001b[0;34m\u001b[0m\u001b[0;34m\u001b[0m\u001b[0m\n\u001b[1;32m    330\u001b[0m                 )\n\u001b[0;32m--> 331\u001b[0;31m             \u001b[0;32mreturn\u001b[0m \u001b[0mfunc\u001b[0m\u001b[0;34m(\u001b[0m\u001b[0;34m*\u001b[0m\u001b[0margs\u001b[0m\u001b[0;34m,\u001b[0m \u001b[0;34m**\u001b[0m\u001b[0mkwargs\u001b[0m\u001b[0;34m)\u001b[0m\u001b[0;34m\u001b[0m\u001b[0;34m\u001b[0m\u001b[0m\n\u001b[0m\u001b[1;32m    332\u001b[0m \u001b[0;34m\u001b[0m\u001b[0m\n\u001b[1;32m    333\u001b[0m         \u001b[0;31m# error: \"Callable[[VarArg(Any), KwArg(Any)], Any]\" has no\u001b[0m\u001b[0;34m\u001b[0m\u001b[0;34m\u001b[0m\u001b[0m\n",
            "\u001b[0;32m/usr/local/lib/python3.10/dist-packages/pandas/io/parsers/readers.py\u001b[0m in \u001b[0;36mread_csv\u001b[0;34m(filepath_or_buffer, sep, delimiter, header, names, index_col, usecols, squeeze, prefix, mangle_dupe_cols, dtype, engine, converters, true_values, false_values, skipinitialspace, skiprows, skipfooter, nrows, na_values, keep_default_na, na_filter, verbose, skip_blank_lines, parse_dates, infer_datetime_format, keep_date_col, date_parser, dayfirst, cache_dates, iterator, chunksize, compression, thousands, decimal, lineterminator, quotechar, quoting, doublequote, escapechar, comment, encoding, encoding_errors, dialect, error_bad_lines, warn_bad_lines, on_bad_lines, delim_whitespace, low_memory, memory_map, float_precision, storage_options)\u001b[0m\n\u001b[1;32m    948\u001b[0m     \u001b[0mkwds\u001b[0m\u001b[0;34m.\u001b[0m\u001b[0mupdate\u001b[0m\u001b[0;34m(\u001b[0m\u001b[0mkwds_defaults\u001b[0m\u001b[0;34m)\u001b[0m\u001b[0;34m\u001b[0m\u001b[0;34m\u001b[0m\u001b[0m\n\u001b[1;32m    949\u001b[0m \u001b[0;34m\u001b[0m\u001b[0m\n\u001b[0;32m--> 950\u001b[0;31m     \u001b[0;32mreturn\u001b[0m \u001b[0m_read\u001b[0m\u001b[0;34m(\u001b[0m\u001b[0mfilepath_or_buffer\u001b[0m\u001b[0;34m,\u001b[0m \u001b[0mkwds\u001b[0m\u001b[0;34m)\u001b[0m\u001b[0;34m\u001b[0m\u001b[0;34m\u001b[0m\u001b[0m\n\u001b[0m\u001b[1;32m    951\u001b[0m \u001b[0;34m\u001b[0m\u001b[0m\n\u001b[1;32m    952\u001b[0m \u001b[0;34m\u001b[0m\u001b[0m\n",
            "\u001b[0;32m/usr/local/lib/python3.10/dist-packages/pandas/io/parsers/readers.py\u001b[0m in \u001b[0;36m_read\u001b[0;34m(filepath_or_buffer, kwds)\u001b[0m\n\u001b[1;32m    603\u001b[0m \u001b[0;34m\u001b[0m\u001b[0m\n\u001b[1;32m    604\u001b[0m     \u001b[0;31m# Create the parser.\u001b[0m\u001b[0;34m\u001b[0m\u001b[0;34m\u001b[0m\u001b[0m\n\u001b[0;32m--> 605\u001b[0;31m     \u001b[0mparser\u001b[0m \u001b[0;34m=\u001b[0m \u001b[0mTextFileReader\u001b[0m\u001b[0;34m(\u001b[0m\u001b[0mfilepath_or_buffer\u001b[0m\u001b[0;34m,\u001b[0m \u001b[0;34m**\u001b[0m\u001b[0mkwds\u001b[0m\u001b[0;34m)\u001b[0m\u001b[0;34m\u001b[0m\u001b[0;34m\u001b[0m\u001b[0m\n\u001b[0m\u001b[1;32m    606\u001b[0m \u001b[0;34m\u001b[0m\u001b[0m\n\u001b[1;32m    607\u001b[0m     \u001b[0;32mif\u001b[0m \u001b[0mchunksize\u001b[0m \u001b[0;32mor\u001b[0m \u001b[0miterator\u001b[0m\u001b[0;34m:\u001b[0m\u001b[0;34m\u001b[0m\u001b[0;34m\u001b[0m\u001b[0m\n",
            "\u001b[0;32m/usr/local/lib/python3.10/dist-packages/pandas/io/parsers/readers.py\u001b[0m in \u001b[0;36m__init__\u001b[0;34m(self, f, engine, **kwds)\u001b[0m\n\u001b[1;32m   1440\u001b[0m \u001b[0;34m\u001b[0m\u001b[0m\n\u001b[1;32m   1441\u001b[0m         \u001b[0mself\u001b[0m\u001b[0;34m.\u001b[0m\u001b[0mhandles\u001b[0m\u001b[0;34m:\u001b[0m \u001b[0mIOHandles\u001b[0m \u001b[0;34m|\u001b[0m \u001b[0;32mNone\u001b[0m \u001b[0;34m=\u001b[0m \u001b[0;32mNone\u001b[0m\u001b[0;34m\u001b[0m\u001b[0;34m\u001b[0m\u001b[0m\n\u001b[0;32m-> 1442\u001b[0;31m         \u001b[0mself\u001b[0m\u001b[0;34m.\u001b[0m\u001b[0m_engine\u001b[0m \u001b[0;34m=\u001b[0m \u001b[0mself\u001b[0m\u001b[0;34m.\u001b[0m\u001b[0m_make_engine\u001b[0m\u001b[0;34m(\u001b[0m\u001b[0mf\u001b[0m\u001b[0;34m,\u001b[0m \u001b[0mself\u001b[0m\u001b[0;34m.\u001b[0m\u001b[0mengine\u001b[0m\u001b[0;34m)\u001b[0m\u001b[0;34m\u001b[0m\u001b[0;34m\u001b[0m\u001b[0m\n\u001b[0m\u001b[1;32m   1443\u001b[0m \u001b[0;34m\u001b[0m\u001b[0m\n\u001b[1;32m   1444\u001b[0m     \u001b[0;32mdef\u001b[0m \u001b[0mclose\u001b[0m\u001b[0;34m(\u001b[0m\u001b[0mself\u001b[0m\u001b[0;34m)\u001b[0m \u001b[0;34m->\u001b[0m \u001b[0;32mNone\u001b[0m\u001b[0;34m:\u001b[0m\u001b[0;34m\u001b[0m\u001b[0;34m\u001b[0m\u001b[0m\n",
            "\u001b[0;32m/usr/local/lib/python3.10/dist-packages/pandas/io/parsers/readers.py\u001b[0m in \u001b[0;36m_make_engine\u001b[0;34m(self, f, engine)\u001b[0m\n\u001b[1;32m   1733\u001b[0m                 \u001b[0;32mif\u001b[0m \u001b[0;34m\"b\"\u001b[0m \u001b[0;32mnot\u001b[0m \u001b[0;32min\u001b[0m \u001b[0mmode\u001b[0m\u001b[0;34m:\u001b[0m\u001b[0;34m\u001b[0m\u001b[0;34m\u001b[0m\u001b[0m\n\u001b[1;32m   1734\u001b[0m                     \u001b[0mmode\u001b[0m \u001b[0;34m+=\u001b[0m \u001b[0;34m\"b\"\u001b[0m\u001b[0;34m\u001b[0m\u001b[0;34m\u001b[0m\u001b[0m\n\u001b[0;32m-> 1735\u001b[0;31m             self.handles = get_handle(\n\u001b[0m\u001b[1;32m   1736\u001b[0m                 \u001b[0mf\u001b[0m\u001b[0;34m,\u001b[0m\u001b[0;34m\u001b[0m\u001b[0;34m\u001b[0m\u001b[0m\n\u001b[1;32m   1737\u001b[0m                 \u001b[0mmode\u001b[0m\u001b[0;34m,\u001b[0m\u001b[0;34m\u001b[0m\u001b[0;34m\u001b[0m\u001b[0m\n",
            "\u001b[0;32m/usr/local/lib/python3.10/dist-packages/pandas/io/common.py\u001b[0m in \u001b[0;36mget_handle\u001b[0;34m(path_or_buf, mode, encoding, compression, memory_map, is_text, errors, storage_options)\u001b[0m\n\u001b[1;32m    854\u001b[0m         \u001b[0;32mif\u001b[0m \u001b[0mioargs\u001b[0m\u001b[0;34m.\u001b[0m\u001b[0mencoding\u001b[0m \u001b[0;32mand\u001b[0m \u001b[0;34m\"b\"\u001b[0m \u001b[0;32mnot\u001b[0m \u001b[0;32min\u001b[0m \u001b[0mioargs\u001b[0m\u001b[0;34m.\u001b[0m\u001b[0mmode\u001b[0m\u001b[0;34m:\u001b[0m\u001b[0;34m\u001b[0m\u001b[0;34m\u001b[0m\u001b[0m\n\u001b[1;32m    855\u001b[0m             \u001b[0;31m# Encoding\u001b[0m\u001b[0;34m\u001b[0m\u001b[0;34m\u001b[0m\u001b[0m\n\u001b[0;32m--> 856\u001b[0;31m             handle = open(\n\u001b[0m\u001b[1;32m    857\u001b[0m                 \u001b[0mhandle\u001b[0m\u001b[0;34m,\u001b[0m\u001b[0;34m\u001b[0m\u001b[0;34m\u001b[0m\u001b[0m\n\u001b[1;32m    858\u001b[0m                 \u001b[0mioargs\u001b[0m\u001b[0;34m.\u001b[0m\u001b[0mmode\u001b[0m\u001b[0;34m,\u001b[0m\u001b[0;34m\u001b[0m\u001b[0;34m\u001b[0m\u001b[0m\n",
            "\u001b[0;31mFileNotFoundError\u001b[0m: [Errno 2] No such file or directory: '/content/watermelon_intents.csv'"
          ]
        }
      ]
    },
    {
      "cell_type": "markdown",
      "source": [
        "위 코드는 pandas와 numpy라는 Python 라이브러리를 불러옵니다. 이 라이브러리들은 데이터를 쉽게 조작하고 분석하기 위해 사용됩니다. 그런 다음 np.random.seed(0)을 통해 무작위 숫자 생성의 시드를 설정합니다. 이렇게 하면 코드를 다시 실행해도 무작위 결과가 동일하게 유지됩니다! 마지막으로 pd.read_csv 함수를 사용해 CSV 파일을 불러오고 data.head()를 사용해 첫 5행을 출력합니다."
      ],
      "metadata": {
        "id": "C-2yEGf90Ubl"
      }
    },
    {
      "cell_type": "markdown",
      "source": [
        "### 데이터 변환하기! \n",
        "\n",
        "유의사항 \n",
        "1.  prompt와 completion이 끝나는 위치를 모델에 알리기 위해 각 prompt 및 completion 열에 구분 기호를 만듭니다. \n",
        "- 제 경우 prompt는 \"\\n\\n->\", completion은 \" END\"로 구분하지만 여러분이 원하시는 방법을 적용해도 무방합니다.\n",
        "2. 데이터 프레임을 jsonl 파일로 변경합니다. [필수사항](https://platform.openai.com/docs/guides/fine-tuning/prepare-training-data)."
      ],
      "metadata": {
        "id": "rJRAaiMYwP6f"
      }
    },
    {
      "cell_type": "code",
      "source": [
        "data.columns = ['prompt', 'completion']"
      ],
      "metadata": {
        "id": "a9tLH4zB241D"
      },
      "execution_count": null,
      "outputs": []
    },
    {
      "cell_type": "code",
      "source": [
        "data['prompt'] = data['prompt'] + \"\\n\\n-> \"\n",
        "data['completion'] = \" \"+data['completion'] + \" END\"\n",
        "data.head(1)"
      ],
      "metadata": {
        "id": "26nUxhiHwRsp"
      },
      "execution_count": null,
      "outputs": []
    },
    {
      "cell_type": "code",
      "source": [
        "print(data['prompt'][0])"
      ],
      "metadata": {
        "id": "hQpDMXESwUGE"
      },
      "execution_count": null,
      "outputs": []
    },
    {
      "cell_type": "code",
      "source": [
        "data.to_json(\"watermelon.jsonl\", orient='records', lines=True)"
      ],
      "metadata": {
        "id": "avi2hpf8wVZL"
      },
      "execution_count": null,
      "outputs": []
    },
    {
      "cell_type": "markdown",
      "source": [
        "위 코드는 데이터를 모델이 이해할 수 있는 형식으로 변환합니다. 먼저 각 열에 'prompt'와 'completion'이라는 이름을 붙입니다. 그런 다음 각 프롬프트와 완성문에 구분자를 추가합니다. 이 구분자들은 모델에게 프롬프트와 완성문이 어디에서 시작하고 끝나는지 알려줍니다. 마지막으로 to_json 함수를 사용하여 데이터를 JSONL 형식의 파일로 저장합니다."
      ],
      "metadata": {
        "id": "ikz1GkN_1fmD"
      }
    },
    {
      "cell_type": "markdown",
      "source": [
        "### Fine-tuning 하기!"
      ],
      "metadata": {
        "id": "Iypq0E3XwWcT"
      }
    },
    {
      "cell_type": "code",
      "source": [
        "!pip install --upgrade openai"
      ],
      "metadata": {
        "id": "qqvcE7jtwYKh"
      },
      "execution_count": null,
      "outputs": []
    },
    {
      "cell_type": "code",
      "source": [
        "!openai tools fine_tunes.prepare_data -f tampon.jsonl"
      ],
      "metadata": {
        "id": "lEQvJ8iUwZFk"
      },
      "execution_count": null,
      "outputs": []
    },
    {
      "cell_type": "code",
      "source": [
        "import os \n",
        "os.environ['OPENAI_API_KEY'] = \"your api key insert here!\""
      ],
      "metadata": {
        "id": "maTPQ25ZwbT-"
      },
      "execution_count": null,
      "outputs": []
    },
    {
      "cell_type": "code",
      "source": [
        "!openai api fine_tunes.create -t \"tampon_prepared.jsonl\" -m 'davinci'"
      ],
      "metadata": {
        "id": "bjwFqRvWwfPV"
      },
      "execution_count": null,
      "outputs": []
    },
    {
      "cell_type": "markdown",
      "source": [
        "위 코드는 OpenAI 라이브러리를 설치하고, 준비된 데이터를 fine-tuning 하기 위해 OpenAI 서버로 보냅니다. os.environ['OPENAI_API_KEY']은 OpenAI 계정의 API 키를 환경 변수로 설정합니다. 이 키는 OpenAI 서비스에 대한 액세스를 인증하는 데 사용됩니다. 마지막으로, openai api fine_tunes.create 명령을 통해 fine-tuning을 시작합니다. 이 과정은 OpenAI 서버에서 수행되므로 인터넷 연결이 끊어져도 괜찮습니다."
      ],
      "metadata": {
        "id": "KfWa9hil1uBs"
      }
    },
    {
      "cell_type": "code",
      "source": [
        "# Fine-tuning은 OpenAI 서버에서 이루어지기 때문에 인터넷 연결이 끊겨도 괜찮습니다. \n",
        "# 아래 코드를 실행하면 Fine-tuning 진행경과를 확인할 수 있습니다. \n",
        "\n",
        "# !openai api fine_tunes.follow -i ft-R9vJN8hWHEQkQpxN0Xol2Z3Z\n",
        "\n"
      ],
      "metadata": {
        "id": "gwXnPxBjwi3p"
      },
      "execution_count": null,
      "outputs": []
    },
    {
      "cell_type": "markdown",
      "source": [
        "### 나만의 파인튜닝 모델 테스트 해보기"
      ],
      "metadata": {
        "id": "izXq07UPworG"
      }
    },
    {
      "cell_type": "code",
      "source": [
        "prompt = \"배송 빨랐구, 포장 짱짱해요~ 사이즈는 여름 수박에 비해 많이 작아요 그래도 달아서 잘 먹음 ㅎㅎ \\n\\n->\""
      ],
      "metadata": {
        "id": "zviyeF6FwndU"
      },
      "execution_count": null,
      "outputs": []
    },
    {
      "cell_type": "code",
      "source": [
        "import openai\n",
        "openai.api_key = 'your api key here! '\n",
        "response = openai.Completion.create(\n",
        "    model = \"your fine-tuned model name here!\",\n",
        "    prompt=prompt,\n",
        "    max_tokens=254,\n",
        "    temperature=0,\n",
        "    top_p=1,\n",
        "    frequency_penalty=0,\n",
        "    presence_penalty=0,\n",
        "    stop=[\" END\"]\n",
        ")\n",
        "print(response['choices'][0]['text'])\n",
        "# 예시 답변: delivery, packaging, size, tasty, satisfaction"
      ],
      "metadata": {
        "id": "AnPOM_jwwsgt"
      },
      "execution_count": null,
      "outputs": []
    },
    {
      "cell_type": "markdown",
      "source": [
        "위 코드 부분은 fine-tuned 모델을 테스트하는 과정입니다. 먼저, 테스트할 프롬프트를 정의합니다. 그 후, OpenAI 라이브러리를 import하고 API 키를 설정합니다.\n",
        "\n",
        "openai.Completion.create는 API를 호출하여 특정 프롬프트에 대한 모델의 완성문을 생성합니다. 여기서는 여러 파라미터를 설정할 수 있습니다:\n",
        "\n",
        "- model: 사용할 모델의 이름입니다. 여기에는 fine-tuned한 모델의 이름을 넣어야 합니다.\n",
        "- prompt: 모델에게 제공할 프롬프트입니다. 이 프롬프트를 바탕으로 모델은 완성문을 생성합니다.\n",
        "- max_tokens: 모델이 생성할 최대 토큰 수입니다.\n",
        "- temperature: 출력의 다양성을 제어합니다. 높은 값(예: 1.0)은 출력이 더 다양하게 되고, 낮은 값(예: 0.0)은 출력이 더 결정론적이 되도록 합니다.\n",
        "- top_p: 토큰 생성 시 고려할 확률 분포의 상위 부분입니다. 이 값이 1.0이면 모든 토큰이 고려되며, 이 값이 작아질수록 높은 확률의 토큰만 고려됩니다.\n",
        "- frequency_penalty 및 presence_penalty: 이들은 각각 자주 등장하는 단어와 새롭게 등장하는 단어에 대한 페널티를 제어합니다.\n",
        "- stop: 이 토큰이 등장하면 생성을 중단합니다. 여기서는 \"END\"로 설정되어 있습니다.\n",
        "\n",
        "마지막으로, print(response['choices'][0]['text'])를 통해 모델이 생성한 완성문을 출력합니다."
      ],
      "metadata": {
        "id": "XCooS4491-sC"
      }
    }
  ]
}